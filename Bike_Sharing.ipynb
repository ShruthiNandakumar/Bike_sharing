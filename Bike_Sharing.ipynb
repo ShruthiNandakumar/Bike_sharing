{
 "cells": [
  {
   "cell_type": "markdown",
   "id": "ba5e4e96",
   "metadata": {},
   "source": [
    "# Case Study - Bike Sharing system "
   ]
  },
  {
   "cell_type": "markdown",
   "id": "8b88df57",
   "metadata": {},
   "source": [
    "### Problem Statement: \n",
    "A bike-sharing system is a service in which bikes are made available for shared use to individuals on a short term basis for a price or free. Many bike share systems allow people to borrow a bike from a \"dock\" which is usually computer-controlled wherein the user enters the payment information, and the system unlocks it. This bike can then be returned to another dock belonging to the same system.\n",
    "\n",
    "\n",
    "A US bike-sharing provider BoomBikes has recently suffered considerable dips in their revenues due to the ongoing Corona pandemic. BoomBikes aspires to understand the demand for shared bikes among the people after this ongoing quarantine situation ends across the nation due to Covid-19. They have planned this to prepare themselves to cater to the people's needs once the situation gets better all around and stand out from other service providers and make huge profits."
   ]
  },
  {
   "cell_type": "markdown",
   "id": "eab709c6",
   "metadata": {},
   "source": [
    "### Aim\n",
    "\n",
    "The company wants to understand the factors affecting the demand, particulary:\n",
    "* Which variables are significant in predicting the demand for shared bikes.\n",
    "* How well those variables describe the bike demands"
   ]
  },
  {
   "cell_type": "markdown",
   "id": "95bff25c",
   "metadata": {},
   "source": [
    "#### The steps we will follow:\n",
    "1. Reading, understanding and visualizing the data\n",
    "2. Preparing the data for modelling\n",
    "3. Training the model\n",
    "4. Residual analysis\n",
    "5. Prediction and evaluation on test set"
   ]
  },
  {
   "cell_type": "markdown",
   "id": "c00fa2a1",
   "metadata": {},
   "source": [
    "### Step 1:Reading, understanding and visualizing the data\n"
   ]
  },
  {
   "cell_type": "code",
   "execution_count": 1,
   "id": "845c516b",
   "metadata": {},
   "outputs": [],
   "source": [
    "# importing libraries\n",
    "import numpy as np\n",
    "import pandas as pd\n",
    "import matplotlib.pyplot as plt\n",
    "import seaborn as sns\n",
    "import warnings\n",
    "warnings.filterwarnings('ignore')"
   ]
  },
  {
   "cell_type": "code",
   "execution_count": 2,
   "id": "7fe9ee26",
   "metadata": {},
   "outputs": [
    {
     "data": {
      "text/html": [
       "<div>\n",
       "<style scoped>\n",
       "    .dataframe tbody tr th:only-of-type {\n",
       "        vertical-align: middle;\n",
       "    }\n",
       "\n",
       "    .dataframe tbody tr th {\n",
       "        vertical-align: top;\n",
       "    }\n",
       "\n",
       "    .dataframe thead th {\n",
       "        text-align: right;\n",
       "    }\n",
       "</style>\n",
       "<table border=\"1\" class=\"dataframe\">\n",
       "  <thead>\n",
       "    <tr style=\"text-align: right;\">\n",
       "      <th></th>\n",
       "      <th>instant</th>\n",
       "      <th>dteday</th>\n",
       "      <th>season</th>\n",
       "      <th>yr</th>\n",
       "      <th>mnth</th>\n",
       "      <th>holiday</th>\n",
       "      <th>weekday</th>\n",
       "      <th>workingday</th>\n",
       "      <th>weathersit</th>\n",
       "      <th>temp</th>\n",
       "      <th>atemp</th>\n",
       "      <th>hum</th>\n",
       "      <th>windspeed</th>\n",
       "      <th>casual</th>\n",
       "      <th>registered</th>\n",
       "      <th>cnt</th>\n",
       "    </tr>\n",
       "  </thead>\n",
       "  <tbody>\n",
       "    <tr>\n",
       "      <th>0</th>\n",
       "      <td>1</td>\n",
       "      <td>01-01-2018</td>\n",
       "      <td>1</td>\n",
       "      <td>0</td>\n",
       "      <td>1</td>\n",
       "      <td>0</td>\n",
       "      <td>6</td>\n",
       "      <td>0</td>\n",
       "      <td>2</td>\n",
       "      <td>14.110847</td>\n",
       "      <td>18.18125</td>\n",
       "      <td>80.5833</td>\n",
       "      <td>10.749882</td>\n",
       "      <td>331</td>\n",
       "      <td>654</td>\n",
       "      <td>985</td>\n",
       "    </tr>\n",
       "    <tr>\n",
       "      <th>1</th>\n",
       "      <td>2</td>\n",
       "      <td>02-01-2018</td>\n",
       "      <td>1</td>\n",
       "      <td>0</td>\n",
       "      <td>1</td>\n",
       "      <td>0</td>\n",
       "      <td>0</td>\n",
       "      <td>0</td>\n",
       "      <td>2</td>\n",
       "      <td>14.902598</td>\n",
       "      <td>17.68695</td>\n",
       "      <td>69.6087</td>\n",
       "      <td>16.652113</td>\n",
       "      <td>131</td>\n",
       "      <td>670</td>\n",
       "      <td>801</td>\n",
       "    </tr>\n",
       "    <tr>\n",
       "      <th>2</th>\n",
       "      <td>3</td>\n",
       "      <td>03-01-2018</td>\n",
       "      <td>1</td>\n",
       "      <td>0</td>\n",
       "      <td>1</td>\n",
       "      <td>0</td>\n",
       "      <td>1</td>\n",
       "      <td>1</td>\n",
       "      <td>1</td>\n",
       "      <td>8.050924</td>\n",
       "      <td>9.47025</td>\n",
       "      <td>43.7273</td>\n",
       "      <td>16.636703</td>\n",
       "      <td>120</td>\n",
       "      <td>1229</td>\n",
       "      <td>1349</td>\n",
       "    </tr>\n",
       "    <tr>\n",
       "      <th>3</th>\n",
       "      <td>4</td>\n",
       "      <td>04-01-2018</td>\n",
       "      <td>1</td>\n",
       "      <td>0</td>\n",
       "      <td>1</td>\n",
       "      <td>0</td>\n",
       "      <td>2</td>\n",
       "      <td>1</td>\n",
       "      <td>1</td>\n",
       "      <td>8.200000</td>\n",
       "      <td>10.60610</td>\n",
       "      <td>59.0435</td>\n",
       "      <td>10.739832</td>\n",
       "      <td>108</td>\n",
       "      <td>1454</td>\n",
       "      <td>1562</td>\n",
       "    </tr>\n",
       "    <tr>\n",
       "      <th>4</th>\n",
       "      <td>5</td>\n",
       "      <td>05-01-2018</td>\n",
       "      <td>1</td>\n",
       "      <td>0</td>\n",
       "      <td>1</td>\n",
       "      <td>0</td>\n",
       "      <td>3</td>\n",
       "      <td>1</td>\n",
       "      <td>1</td>\n",
       "      <td>9.305237</td>\n",
       "      <td>11.46350</td>\n",
       "      <td>43.6957</td>\n",
       "      <td>12.522300</td>\n",
       "      <td>82</td>\n",
       "      <td>1518</td>\n",
       "      <td>1600</td>\n",
       "    </tr>\n",
       "  </tbody>\n",
       "</table>\n",
       "</div>"
      ],
      "text/plain": [
       "   instant      dteday  season  yr  mnth  holiday  weekday  workingday  \\\n",
       "0        1  01-01-2018       1   0     1        0        6           0   \n",
       "1        2  02-01-2018       1   0     1        0        0           0   \n",
       "2        3  03-01-2018       1   0     1        0        1           1   \n",
       "3        4  04-01-2018       1   0     1        0        2           1   \n",
       "4        5  05-01-2018       1   0     1        0        3           1   \n",
       "\n",
       "   weathersit       temp     atemp      hum  windspeed  casual  registered  \\\n",
       "0           2  14.110847  18.18125  80.5833  10.749882     331         654   \n",
       "1           2  14.902598  17.68695  69.6087  16.652113     131         670   \n",
       "2           1   8.050924   9.47025  43.7273  16.636703     120        1229   \n",
       "3           1   8.200000  10.60610  59.0435  10.739832     108        1454   \n",
       "4           1   9.305237  11.46350  43.6957  12.522300      82        1518   \n",
       "\n",
       "    cnt  \n",
       "0   985  \n",
       "1   801  \n",
       "2  1349  \n",
       "3  1562  \n",
       "4  1600  "
      ]
     },
     "execution_count": 2,
     "metadata": {},
     "output_type": "execute_result"
    }
   ],
   "source": [
    "#lets analyze the dataset\n",
    "bike = pd.read_csv('day.csv')\n",
    "bike.head()"
   ]
  },
  {
   "cell_type": "code",
   "execution_count": 3,
   "id": "d4f6c6fd",
   "metadata": {},
   "outputs": [
    {
     "data": {
      "text/plain": [
       "(730, 16)"
      ]
     },
     "execution_count": 3,
     "metadata": {},
     "output_type": "execute_result"
    }
   ],
   "source": [
    "bike.shape"
   ]
  },
  {
   "cell_type": "code",
   "execution_count": 4,
   "id": "5ed4e81d",
   "metadata": {},
   "outputs": [
    {
     "name": "stdout",
     "output_type": "stream",
     "text": [
      "<class 'pandas.core.frame.DataFrame'>\n",
      "RangeIndex: 730 entries, 0 to 729\n",
      "Data columns (total 16 columns):\n",
      " #   Column      Non-Null Count  Dtype  \n",
      "---  ------      --------------  -----  \n",
      " 0   instant     730 non-null    int64  \n",
      " 1   dteday      730 non-null    object \n",
      " 2   season      730 non-null    int64  \n",
      " 3   yr          730 non-null    int64  \n",
      " 4   mnth        730 non-null    int64  \n",
      " 5   holiday     730 non-null    int64  \n",
      " 6   weekday     730 non-null    int64  \n",
      " 7   workingday  730 non-null    int64  \n",
      " 8   weathersit  730 non-null    int64  \n",
      " 9   temp        730 non-null    float64\n",
      " 10  atemp       730 non-null    float64\n",
      " 11  hum         730 non-null    float64\n",
      " 12  windspeed   730 non-null    float64\n",
      " 13  casual      730 non-null    int64  \n",
      " 14  registered  730 non-null    int64  \n",
      " 15  cnt         730 non-null    int64  \n",
      "dtypes: float64(4), int64(11), object(1)\n",
      "memory usage: 91.4+ KB\n"
     ]
    }
   ],
   "source": [
    "bike.info()"
   ]
  },
  {
   "cell_type": "code",
   "execution_count": 5,
   "id": "ccacada4",
   "metadata": {},
   "outputs": [
    {
     "data": {
      "text/html": [
       "<div>\n",
       "<style scoped>\n",
       "    .dataframe tbody tr th:only-of-type {\n",
       "        vertical-align: middle;\n",
       "    }\n",
       "\n",
       "    .dataframe tbody tr th {\n",
       "        vertical-align: top;\n",
       "    }\n",
       "\n",
       "    .dataframe thead th {\n",
       "        text-align: right;\n",
       "    }\n",
       "</style>\n",
       "<table border=\"1\" class=\"dataframe\">\n",
       "  <thead>\n",
       "    <tr style=\"text-align: right;\">\n",
       "      <th></th>\n",
       "      <th>instant</th>\n",
       "      <th>season</th>\n",
       "      <th>yr</th>\n",
       "      <th>mnth</th>\n",
       "      <th>holiday</th>\n",
       "      <th>weekday</th>\n",
       "      <th>workingday</th>\n",
       "      <th>weathersit</th>\n",
       "      <th>temp</th>\n",
       "      <th>atemp</th>\n",
       "      <th>hum</th>\n",
       "      <th>windspeed</th>\n",
       "      <th>casual</th>\n",
       "      <th>registered</th>\n",
       "      <th>cnt</th>\n",
       "    </tr>\n",
       "  </thead>\n",
       "  <tbody>\n",
       "    <tr>\n",
       "      <th>count</th>\n",
       "      <td>730.000000</td>\n",
       "      <td>730.000000</td>\n",
       "      <td>730.000000</td>\n",
       "      <td>730.000000</td>\n",
       "      <td>730.000000</td>\n",
       "      <td>730.000000</td>\n",
       "      <td>730.000000</td>\n",
       "      <td>730.000000</td>\n",
       "      <td>730.000000</td>\n",
       "      <td>730.000000</td>\n",
       "      <td>730.000000</td>\n",
       "      <td>730.000000</td>\n",
       "      <td>730.000000</td>\n",
       "      <td>730.000000</td>\n",
       "      <td>730.000000</td>\n",
       "    </tr>\n",
       "    <tr>\n",
       "      <th>mean</th>\n",
       "      <td>365.500000</td>\n",
       "      <td>2.498630</td>\n",
       "      <td>0.500000</td>\n",
       "      <td>6.526027</td>\n",
       "      <td>0.028767</td>\n",
       "      <td>2.997260</td>\n",
       "      <td>0.683562</td>\n",
       "      <td>1.394521</td>\n",
       "      <td>20.319259</td>\n",
       "      <td>23.726322</td>\n",
       "      <td>62.765175</td>\n",
       "      <td>12.763620</td>\n",
       "      <td>849.249315</td>\n",
       "      <td>3658.757534</td>\n",
       "      <td>4508.006849</td>\n",
       "    </tr>\n",
       "    <tr>\n",
       "      <th>std</th>\n",
       "      <td>210.877136</td>\n",
       "      <td>1.110184</td>\n",
       "      <td>0.500343</td>\n",
       "      <td>3.450215</td>\n",
       "      <td>0.167266</td>\n",
       "      <td>2.006161</td>\n",
       "      <td>0.465405</td>\n",
       "      <td>0.544807</td>\n",
       "      <td>7.506729</td>\n",
       "      <td>8.150308</td>\n",
       "      <td>14.237589</td>\n",
       "      <td>5.195841</td>\n",
       "      <td>686.479875</td>\n",
       "      <td>1559.758728</td>\n",
       "      <td>1936.011647</td>\n",
       "    </tr>\n",
       "    <tr>\n",
       "      <th>min</th>\n",
       "      <td>1.000000</td>\n",
       "      <td>1.000000</td>\n",
       "      <td>0.000000</td>\n",
       "      <td>1.000000</td>\n",
       "      <td>0.000000</td>\n",
       "      <td>0.000000</td>\n",
       "      <td>0.000000</td>\n",
       "      <td>1.000000</td>\n",
       "      <td>2.424346</td>\n",
       "      <td>3.953480</td>\n",
       "      <td>0.000000</td>\n",
       "      <td>1.500244</td>\n",
       "      <td>2.000000</td>\n",
       "      <td>20.000000</td>\n",
       "      <td>22.000000</td>\n",
       "    </tr>\n",
       "    <tr>\n",
       "      <th>25%</th>\n",
       "      <td>183.250000</td>\n",
       "      <td>2.000000</td>\n",
       "      <td>0.000000</td>\n",
       "      <td>4.000000</td>\n",
       "      <td>0.000000</td>\n",
       "      <td>1.000000</td>\n",
       "      <td>0.000000</td>\n",
       "      <td>1.000000</td>\n",
       "      <td>13.811885</td>\n",
       "      <td>16.889713</td>\n",
       "      <td>52.000000</td>\n",
       "      <td>9.041650</td>\n",
       "      <td>316.250000</td>\n",
       "      <td>2502.250000</td>\n",
       "      <td>3169.750000</td>\n",
       "    </tr>\n",
       "    <tr>\n",
       "      <th>50%</th>\n",
       "      <td>365.500000</td>\n",
       "      <td>3.000000</td>\n",
       "      <td>0.500000</td>\n",
       "      <td>7.000000</td>\n",
       "      <td>0.000000</td>\n",
       "      <td>3.000000</td>\n",
       "      <td>1.000000</td>\n",
       "      <td>1.000000</td>\n",
       "      <td>20.465826</td>\n",
       "      <td>24.368225</td>\n",
       "      <td>62.625000</td>\n",
       "      <td>12.125325</td>\n",
       "      <td>717.000000</td>\n",
       "      <td>3664.500000</td>\n",
       "      <td>4548.500000</td>\n",
       "    </tr>\n",
       "    <tr>\n",
       "      <th>75%</th>\n",
       "      <td>547.750000</td>\n",
       "      <td>3.000000</td>\n",
       "      <td>1.000000</td>\n",
       "      <td>10.000000</td>\n",
       "      <td>0.000000</td>\n",
       "      <td>5.000000</td>\n",
       "      <td>1.000000</td>\n",
       "      <td>2.000000</td>\n",
       "      <td>26.880615</td>\n",
       "      <td>30.445775</td>\n",
       "      <td>72.989575</td>\n",
       "      <td>15.625589</td>\n",
       "      <td>1096.500000</td>\n",
       "      <td>4783.250000</td>\n",
       "      <td>5966.000000</td>\n",
       "    </tr>\n",
       "    <tr>\n",
       "      <th>max</th>\n",
       "      <td>730.000000</td>\n",
       "      <td>4.000000</td>\n",
       "      <td>1.000000</td>\n",
       "      <td>12.000000</td>\n",
       "      <td>1.000000</td>\n",
       "      <td>6.000000</td>\n",
       "      <td>1.000000</td>\n",
       "      <td>3.000000</td>\n",
       "      <td>35.328347</td>\n",
       "      <td>42.044800</td>\n",
       "      <td>97.250000</td>\n",
       "      <td>34.000021</td>\n",
       "      <td>3410.000000</td>\n",
       "      <td>6946.000000</td>\n",
       "      <td>8714.000000</td>\n",
       "    </tr>\n",
       "  </tbody>\n",
       "</table>\n",
       "</div>"
      ],
      "text/plain": [
       "          instant      season          yr        mnth     holiday     weekday  \\\n",
       "count  730.000000  730.000000  730.000000  730.000000  730.000000  730.000000   \n",
       "mean   365.500000    2.498630    0.500000    6.526027    0.028767    2.997260   \n",
       "std    210.877136    1.110184    0.500343    3.450215    0.167266    2.006161   \n",
       "min      1.000000    1.000000    0.000000    1.000000    0.000000    0.000000   \n",
       "25%    183.250000    2.000000    0.000000    4.000000    0.000000    1.000000   \n",
       "50%    365.500000    3.000000    0.500000    7.000000    0.000000    3.000000   \n",
       "75%    547.750000    3.000000    1.000000   10.000000    0.000000    5.000000   \n",
       "max    730.000000    4.000000    1.000000   12.000000    1.000000    6.000000   \n",
       "\n",
       "       workingday  weathersit        temp       atemp         hum   windspeed  \\\n",
       "count  730.000000  730.000000  730.000000  730.000000  730.000000  730.000000   \n",
       "mean     0.683562    1.394521   20.319259   23.726322   62.765175   12.763620   \n",
       "std      0.465405    0.544807    7.506729    8.150308   14.237589    5.195841   \n",
       "min      0.000000    1.000000    2.424346    3.953480    0.000000    1.500244   \n",
       "25%      0.000000    1.000000   13.811885   16.889713   52.000000    9.041650   \n",
       "50%      1.000000    1.000000   20.465826   24.368225   62.625000   12.125325   \n",
       "75%      1.000000    2.000000   26.880615   30.445775   72.989575   15.625589   \n",
       "max      1.000000    3.000000   35.328347   42.044800   97.250000   34.000021   \n",
       "\n",
       "            casual   registered          cnt  \n",
       "count   730.000000   730.000000   730.000000  \n",
       "mean    849.249315  3658.757534  4508.006849  \n",
       "std     686.479875  1559.758728  1936.011647  \n",
       "min       2.000000    20.000000    22.000000  \n",
       "25%     316.250000  2502.250000  3169.750000  \n",
       "50%     717.000000  3664.500000  4548.500000  \n",
       "75%    1096.500000  4783.250000  5966.000000  \n",
       "max    3410.000000  6946.000000  8714.000000  "
      ]
     },
     "execution_count": 5,
     "metadata": {},
     "output_type": "execute_result"
    }
   ],
   "source": [
    "bike.describe()"
   ]
  },
  {
   "cell_type": "markdown",
   "id": "62823238",
   "metadata": {},
   "source": [
    "##### Checking for null Columns/Rows"
   ]
  },
  {
   "cell_type": "code",
   "execution_count": 6,
   "id": "686eae12",
   "metadata": {},
   "outputs": [
    {
     "data": {
      "text/plain": [
       "instant       0\n",
       "dteday        0\n",
       "season        0\n",
       "yr            0\n",
       "mnth          0\n",
       "holiday       0\n",
       "weekday       0\n",
       "workingday    0\n",
       "weathersit    0\n",
       "temp          0\n",
       "atemp         0\n",
       "hum           0\n",
       "windspeed     0\n",
       "casual        0\n",
       "registered    0\n",
       "cnt           0\n",
       "dtype: int64"
      ]
     },
     "execution_count": 6,
     "metadata": {},
     "output_type": "execute_result"
    }
   ],
   "source": [
    "missing_col = bike.isnull().sum()\n",
    "missing_col"
   ]
  },
  {
   "cell_type": "code",
   "execution_count": 7,
   "id": "b280a67b",
   "metadata": {},
   "outputs": [
    {
     "data": {
      "text/plain": [
       "0      0\n",
       "479    0\n",
       "481    0\n",
       "482    0\n",
       "483    0\n",
       "      ..\n",
       "245    0\n",
       "246    0\n",
       "247    0\n",
       "248    0\n",
       "729    0\n",
       "Length: 730, dtype: int64"
      ]
     },
     "execution_count": 7,
     "metadata": {},
     "output_type": "execute_result"
    }
   ],
   "source": [
    "missing_row =bike.isnull().sum(axis=1).sort_values(ascending=False)\n",
    "missing_row"
   ]
  },
  {
   "cell_type": "markdown",
   "id": "9be6c48b",
   "metadata": {},
   "source": [
    "No null Columns or Rows"
   ]
  },
  {
   "cell_type": "markdown",
   "id": "e69b8ecb",
   "metadata": {},
   "source": [
    "##### Checking for Duplicates"
   ]
  },
  {
   "cell_type": "code",
   "execution_count": 8,
   "id": "bffe7d04",
   "metadata": {},
   "outputs": [
    {
     "data": {
      "text/plain": [
       "730"
      ]
     },
     "execution_count": 8,
     "metadata": {},
     "output_type": "execute_result"
    }
   ],
   "source": [
    "bike.duplicated(subset=None, keep='first').count()"
   ]
  },
  {
   "cell_type": "markdown",
   "id": "f3787b1c",
   "metadata": {},
   "source": [
    "No duplicates"
   ]
  },
  {
   "cell_type": "markdown",
   "id": "73e52e1c",
   "metadata": {},
   "source": [
    "Looking at the dictionary, the below do not serve much purpose, hence we shall remove these variables:\n",
    "\n",
    "* instant- records index values, all are unique.\n",
    "* dteday- records date, we already have 'year' & 'month' categories, hence removing this.\n",
    "* casual- contains the count casual users.\n",
    "* registered- contains the count registered users.\n",
    "    * We have the total counts cnt,which is our target variable, hence removing the above two."
   ]
  },
  {
   "cell_type": "code",
   "execution_count": 9,
   "id": "bf4d1fca",
   "metadata": {},
   "outputs": [
    {
     "data": {
      "text/plain": [
       "Index(['instant', 'dteday', 'season', 'yr', 'mnth', 'holiday', 'weekday',\n",
       "       'workingday', 'weathersit', 'temp', 'atemp', 'hum', 'windspeed',\n",
       "       'casual', 'registered', 'cnt'],\n",
       "      dtype='object')"
      ]
     },
     "execution_count": 9,
     "metadata": {},
     "output_type": "execute_result"
    }
   ],
   "source": [
    "bike.columns"
   ]
  },
  {
   "cell_type": "code",
   "execution_count": 10,
   "id": "a9a73f16",
   "metadata": {},
   "outputs": [
    {
     "data": {
      "text/plain": [
       "Index(['season', 'yr', 'mnth', 'holiday', 'weekday', 'workingday',\n",
       "       'weathersit', 'temp', 'atemp', 'hum', 'windspeed', 'cnt'],\n",
       "      dtype='object')"
      ]
     },
     "execution_count": 10,
     "metadata": {},
     "output_type": "execute_result"
    }
   ],
   "source": [
    "bike_new=bike.drop(['instant','dteday','casual','registered'],axis=1)\n",
    "bike_new.columns"
   ]
  },
  {
   "cell_type": "code",
   "execution_count": 11,
   "id": "94bce594",
   "metadata": {},
   "outputs": [
    {
     "data": {
      "text/plain": [
       "(730, 12)"
      ]
     },
     "execution_count": 11,
     "metadata": {},
     "output_type": "execute_result"
    }
   ],
   "source": [
    "bike_new.shape"
   ]
  },
  {
   "cell_type": "code",
   "execution_count": 12,
   "id": "c7204b4f",
   "metadata": {},
   "outputs": [
    {
     "name": "stdout",
     "output_type": "stream",
     "text": [
      "<class 'pandas.core.frame.DataFrame'>\n",
      "RangeIndex: 730 entries, 0 to 729\n",
      "Data columns (total 12 columns):\n",
      " #   Column      Non-Null Count  Dtype  \n",
      "---  ------      --------------  -----  \n",
      " 0   season      730 non-null    int64  \n",
      " 1   yr          730 non-null    int64  \n",
      " 2   mnth        730 non-null    int64  \n",
      " 3   holiday     730 non-null    int64  \n",
      " 4   weekday     730 non-null    int64  \n",
      " 5   workingday  730 non-null    int64  \n",
      " 6   weathersit  730 non-null    int64  \n",
      " 7   temp        730 non-null    float64\n",
      " 8   atemp       730 non-null    float64\n",
      " 9   hum         730 non-null    float64\n",
      " 10  windspeed   730 non-null    float64\n",
      " 11  cnt         730 non-null    int64  \n",
      "dtypes: float64(4), int64(8)\n",
      "memory usage: 68.6 KB\n"
     ]
    }
   ],
   "source": [
    "bike_new.info()"
   ]
  },
  {
   "cell_type": "markdown",
   "id": "aed1df6a",
   "metadata": {},
   "source": [
    "### Lets visualize the dataset"
   ]
  },
  {
   "cell_type": "code",
   "execution_count": null,
   "id": "beb35c0a",
   "metadata": {},
   "outputs": [],
   "source": [
    "sns.pairplot(bike_new)\n",
    "plt.show()"
   ]
  },
  {
   "cell_type": "code",
   "execution_count": null,
   "id": "71f34be2",
   "metadata": {},
   "outputs": [],
   "source": [
    "# Numeric variables:\n",
    "sns.pairplot(data=bike_new,vars=['cnt', 'temp', 'atemp', 'hum','windspeed'])\n",
    "plt.show()"
   ]
  },
  {
   "cell_type": "code",
   "execution_count": null,
   "id": "193d2031",
   "metadata": {},
   "outputs": [],
   "source": [
    "sns.heatmap(bike_new[['temp','atemp','hum','windspeed','cnt']].corr(), cmap='Blues', annot = True)\n",
    "plt.show()"
   ]
  },
  {
   "cell_type": "markdown",
   "id": "799eb49b",
   "metadata": {},
   "source": [
    "* Observation:\n",
    "1. Temp and Atemp are positively correlated with cnt.\n",
    "2. They have the highest corelation with the target variable cnt.\n",
    "3. Temp and Atemp are highly co-related with each other, hence we can remove one of them.\n",
    "4. Hum and Windspeed values are more scattered around.\n",
    "5. And they are negatively correlated with the target,cnt decreases with increase in hum/windspeed."
   ]
  },
  {
   "cell_type": "code",
   "execution_count": null,
   "id": "6b474efc",
   "metadata": {},
   "outputs": [],
   "source": [
    "# Categorical variables: \n",
    "plt.figure(figsize=(20, 12))\n",
    "plt.subplot(3,3,1)\n",
    "sns.boxplot(x = 'season', y = 'cnt', data = bike_new)\n",
    "plt.subplot(3,3,2)\n",
    "sns.boxplot(x = 'mnth', y = 'cnt', data = bike_new)\n",
    "plt.subplot(3,3,3)\n",
    "sns.boxplot(x = 'holiday', y = 'cnt', data = bike_new)\n",
    "plt.subplot(3,3,4)\n",
    "sns.boxplot(x = 'weathersit', y = 'cnt', data = bike_new)\n",
    "plt.subplot(3,3,5)\n",
    "sns.boxplot(x = 'yr', y = 'cnt', data = bike_new)\n",
    "plt.subplot(3,3,6)\n",
    "sns.boxplot(x = 'weekday', y = 'cnt', data = bike_new)\n",
    "plt.subplot(3,3,7)\n",
    "sns.boxplot(x = 'workingday', y = 'cnt', data = bike_new)\n",
    "plt.show()\n"
   ]
  },
  {
   "cell_type": "markdown",
   "id": "46e4d014",
   "metadata": {},
   "source": [
    "* Observation:\n",
    "1. The demand is least for spring season.\n",
    "2. The number of bike shares gradually increase until September and then starts to decrease.\n",
    "3. The cnt values are less during holidays.\n",
    "4. We do not find any values for weathersit - Heavy Rain + Ice Pallets + Thunderstorm + Mist, Snow + Fog\n",
    "5. However, there is high number of bike sharing during Clear, Few clouds, Partly cloudy, Partly cloudy weathersit.\n",
    "6. The cnt values have increased in 2019 compared to 2018.\n",
    "7. Weekday doesnt give many details on the demand trend."
   ]
  },
  {
   "cell_type": "markdown",
   "id": "6e60d2ea",
   "metadata": {},
   "source": [
    "### Step2: Preparing the data for modelling "
   ]
  },
  {
   "cell_type": "markdown",
   "id": "8c2c489c",
   "metadata": {},
   "source": [
    "#### Encoding \n",
    "    * -Converting binary categorical variables to 1/0\n",
    "    * -Converting other categorical variables to dummy variables"
   ]
  },
  {
   "cell_type": "markdown",
   "id": "4d7c1267",
   "metadata": {},
   "source": [
    "Lets create dummy variables for the categorical variables: season ,weathersit, mnth and weekday. Convert them to values mentioned in the data dictionary.\n",
    "* season : season (1:spring, 2:summer, 3:fall, 4:winter)\n",
    "* weathersit : \n",
    "\t\t- 1: Clear, Few clouds, Partly cloudy, Partly cloudy\n",
    "\t\t- 2: Mist + Cloudy, Mist + Broken clouds, Mist + Few clouds, Mist\n",
    "\t\t- 3: Light Snow, Light Rain + Thunderstorm + Scattered clouds, Light Rain + Scattered clouds\n",
    "\t\t- 4: Heavy Rain + Ice Pallets + Thunderstorm + Mist, Snow + Fog\n",
    "* mnth : month ( 1 to 12)\n",
    "* weekday : day of the week"
   ]
  },
  {
   "cell_type": "code",
   "execution_count": null,
   "id": "ff3d2df4",
   "metadata": {},
   "outputs": [],
   "source": [
    "bike_new.season.value_counts()"
   ]
  },
  {
   "cell_type": "code",
   "execution_count": null,
   "id": "b49c39fe",
   "metadata": {},
   "outputs": [],
   "source": [
    "bike_new.info()"
   ]
  },
  {
   "cell_type": "code",
   "execution_count": null,
   "id": "67d4b3e0",
   "metadata": {},
   "outputs": [],
   "source": [
    "#season:\n",
    "bike_new['season'] = bike_new['season'].map({1: 'spring',2:'summer',3:'fall',4:'winter'}) \n",
    "bike_new.head()"
   ]
  },
  {
   "cell_type": "code",
   "execution_count": null,
   "id": "0991fb39",
   "metadata": {},
   "outputs": [],
   "source": [
    "bike_new.shape"
   ]
  },
  {
   "cell_type": "code",
   "execution_count": null,
   "id": "699ee7ea",
   "metadata": {},
   "outputs": [],
   "source": [
    "#weathersit\n",
    "bike_new.weathersit.value_counts()"
   ]
  },
  {
   "cell_type": "code",
   "execution_count": null,
   "id": "87399980",
   "metadata": {},
   "outputs": [],
   "source": [
    "bike_new['weathersit'] = bike_new['weathersit'].map({1:'Clear',2:'Mist',3:'Snow'})\n",
    "bike_new.head()"
   ]
  },
  {
   "cell_type": "code",
   "execution_count": null,
   "id": "716ec9cb",
   "metadata": {},
   "outputs": [],
   "source": [
    "#mnth\n",
    "bike_new.mnth.value_counts()"
   ]
  },
  {
   "cell_type": "code",
   "execution_count": null,
   "id": "73e2fb00",
   "metadata": {},
   "outputs": [],
   "source": [
    "bike_new['mnth'] = bike_new['mnth'].map({1: 'jan',2: 'feb',3: 'mar',4: 'apr',5: 'may',6: 'jun',7: 'jul',8: 'aug',9: 'sept',10: 'oct',11: 'nov',12: 'dec'})\n",
    "bike_new.head()"
   ]
  },
  {
   "cell_type": "code",
   "execution_count": null,
   "id": "383fb3f6",
   "metadata": {},
   "outputs": [],
   "source": [
    "#weekday\n",
    "bike_new.weekday.value_counts()"
   ]
  },
  {
   "cell_type": "code",
   "execution_count": null,
   "id": "427e1ceb",
   "metadata": {},
   "outputs": [],
   "source": [
    "bike_new['weekday'] = bike_new['weekday'].map({0: 'tue',1: 'wed',2: 'thur',3: 'fri',4: 'sat',5: 'sun',6: 'mon'})\n",
    "bike_new.head()"
   ]
  },
  {
   "cell_type": "code",
   "execution_count": null,
   "id": "acdc6e10",
   "metadata": {},
   "outputs": [],
   "source": [
    "bike_new.head()"
   ]
  },
  {
   "cell_type": "code",
   "execution_count": null,
   "id": "6d636a00",
   "metadata": {},
   "outputs": [],
   "source": [
    "bike_new.info()"
   ]
  },
  {
   "cell_type": "code",
   "execution_count": null,
   "id": "07a78eac",
   "metadata": {},
   "outputs": [],
   "source": [
    "# Create dummies for the above categories \n",
    "# Drop original variable for which the dummy was created\n",
    "\n",
    "dummy = bike_new[['season','mnth','weekday','weathersit']]\n",
    "dummy = pd.get_dummies(dummy,drop_first=True )"
   ]
  },
  {
   "cell_type": "code",
   "execution_count": null,
   "id": "d7d72fb9",
   "metadata": {},
   "outputs": [],
   "source": [
    "bike_new = pd.concat([bike_new,dummy],axis = 1)"
   ]
  },
  {
   "cell_type": "code",
   "execution_count": null,
   "id": "ab91d387",
   "metadata": {},
   "outputs": [],
   "source": [
    "bike_new.shape"
   ]
  },
  {
   "cell_type": "code",
   "execution_count": null,
   "id": "ee621dfa",
   "metadata": {},
   "outputs": [],
   "source": [
    "bike_new.head()"
   ]
  },
  {
   "cell_type": "code",
   "execution_count": null,
   "id": "06cb6a23",
   "metadata": {},
   "outputs": [],
   "source": [
    "bike_new.drop(['season', 'mnth', 'weekday','weathersit'], axis = 1, inplace = True)"
   ]
  },
  {
   "cell_type": "code",
   "execution_count": null,
   "id": "86274fca",
   "metadata": {},
   "outputs": [],
   "source": [
    "bike_new.head()"
   ]
  },
  {
   "cell_type": "code",
   "execution_count": null,
   "id": "26513b21",
   "metadata": {},
   "outputs": [],
   "source": [
    "bike_new.shape"
   ]
  },
  {
   "cell_type": "code",
   "execution_count": null,
   "id": "a402aa3b",
   "metadata": {},
   "outputs": [],
   "source": [
    "bike_new.info()"
   ]
  },
  {
   "cell_type": "markdown",
   "id": "10cd894f",
   "metadata": {},
   "source": [
    "#### Splitting into train-test and Rescaling the variables"
   ]
  },
  {
   "cell_type": "code",
   "execution_count": null,
   "id": "5b5d2c2b",
   "metadata": {},
   "outputs": [],
   "source": [
    "#splitting into train-test\n",
    "import sklearn\n",
    "from sklearn.model_selection import train_test_split\n",
    "from sklearn.preprocessing import MinMaxScaler\n"
   ]
  },
  {
   "cell_type": "code",
   "execution_count": null,
   "id": "2d813fd1",
   "metadata": {},
   "outputs": [],
   "source": [
    "df_train, df_test =train_test_split(bike_new, train_size=0.7,random_state=100)\n",
    "print(df_train.shape)\n",
    "print(df_test.shape)"
   ]
  },
  {
   "cell_type": "code",
   "execution_count": null,
   "id": "a5dee7f5",
   "metadata": {},
   "outputs": [],
   "source": [
    "df_train.head()"
   ]
  },
  {
   "cell_type": "code",
   "execution_count": null,
   "id": "58095f2a",
   "metadata": {},
   "outputs": [],
   "source": [
    "scaler = MinMaxScaler()\n",
    "\n",
    "# create a list of only numeric variables(non-binary),apply scaler() to all the columns except the 'yes-no' and 'dummy' variables\n",
    "num_vars = ['cnt','hum','windspeed','temp','atemp']"
   ]
  },
  {
   "cell_type": "code",
   "execution_count": null,
   "id": "efff26ff",
   "metadata": {},
   "outputs": [],
   "source": [
    "df_train[num_vars] = scaler.fit_transform(df_train[num_vars])\n",
    "df_train.head()"
   ]
  },
  {
   "cell_type": "code",
   "execution_count": null,
   "id": "cc78c9ba",
   "metadata": {},
   "outputs": [],
   "source": [
    "df_train.describe()"
   ]
  },
  {
   "cell_type": "code",
   "execution_count": null,
   "id": "e0bd221d",
   "metadata": {},
   "outputs": [],
   "source": [
    "# Let's check the correlation coefficients to see which variables are highly correlated\n",
    "\n",
    "plt.figure(figsize = (16, 10))\n",
    "sns.heatmap(df_train.corr(), annot = True, cmap=\"Greens\")\n",
    "plt.show()\n",
    "# We will refer this map while building the linear model."
   ]
  },
  {
   "cell_type": "markdown",
   "id": "e1083582",
   "metadata": {},
   "source": [
    "### Step3: Training the model"
   ]
  },
  {
   "cell_type": "code",
   "execution_count": null,
   "id": "1ba10582",
   "metadata": {},
   "outputs": [],
   "source": [
    "#Building a linear model:"
   ]
  },
  {
   "cell_type": "code",
   "execution_count": null,
   "id": "92de0fea",
   "metadata": {},
   "outputs": [],
   "source": [
    "# lets create X_train and y_train\n",
    "y_train = df_train.pop('cnt')\n",
    "X_train = df_train"
   ]
  },
  {
   "cell_type": "code",
   "execution_count": null,
   "id": "c6bb6fb5",
   "metadata": {},
   "outputs": [],
   "source": [
    "X_train.head()"
   ]
  },
  {
   "cell_type": "markdown",
   "id": "346dda66",
   "metadata": {},
   "source": [
    "In statsmodels, we need to explicitly fit a constant using sm.add_constant(X)."
   ]
  },
  {
   "cell_type": "code",
   "execution_count": null,
   "id": "b173c9f3",
   "metadata": {},
   "outputs": [],
   "source": [
    "y_train.head()"
   ]
  },
  {
   "cell_type": "markdown",
   "id": "5c4e8f0a",
   "metadata": {},
   "source": [
    "#### Variable Selection using RFE"
   ]
  },
  {
   "cell_type": "code",
   "execution_count": null,
   "id": "1f80b03a",
   "metadata": {},
   "outputs": [],
   "source": [
    "from sklearn.feature_selection import RFE\n",
    "from sklearn.linear_model import LinearRegression"
   ]
  },
  {
   "cell_type": "code",
   "execution_count": null,
   "id": "0ee6eed3",
   "metadata": {},
   "outputs": [],
   "source": [
    "lm = LinearRegression()\n",
    "lm.fit(X_train, y_train)\n",
    "\n",
    "rfe = RFE(lm, 20)             # We are considering 20 variables\n",
    "rfe = rfe.fit(X_train, y_train)"
   ]
  },
  {
   "cell_type": "code",
   "execution_count": null,
   "id": "aded8967",
   "metadata": {},
   "outputs": [],
   "source": [
    "list(zip(X_train.columns,rfe.support_,rfe.ranking_))"
   ]
  },
  {
   "cell_type": "code",
   "execution_count": null,
   "id": "aa0d194a",
   "metadata": {},
   "outputs": [],
   "source": [
    "#Print Columns selected by RFE. We will start with these columns for manual elimination\n",
    "col = X_train.columns[rfe.support_]\n",
    "col"
   ]
  },
  {
   "cell_type": "code",
   "execution_count": null,
   "id": "ca16acf9",
   "metadata": {},
   "outputs": [],
   "source": [
    "X_train.columns[~rfe.support_]"
   ]
  },
  {
   "cell_type": "code",
   "execution_count": null,
   "id": "4cf6b39b",
   "metadata": {},
   "outputs": [],
   "source": [
    "# Creating X_test dataframe with RFE selected variables\n",
    "# Model 1\n",
    "X_train_rfe = X_train[col]\n",
    "X_train_rfe"
   ]
  },
  {
   "cell_type": "code",
   "execution_count": null,
   "id": "148799e9",
   "metadata": {},
   "outputs": [],
   "source": [
    "# Adding a constant variable \n",
    "import statsmodels.api as sm  \n",
    "X_train_rfe = sm.add_constant(X_train_rfe)"
   ]
  },
  {
   "cell_type": "code",
   "execution_count": null,
   "id": "a472f840",
   "metadata": {},
   "outputs": [],
   "source": [
    "# Running the linear model\n",
    "lm = sm.OLS(y_train,X_train_rfe).fit()   \n",
    "print(lm.summary())"
   ]
  },
  {
   "cell_type": "code",
   "execution_count": null,
   "id": "8322e8ff",
   "metadata": {},
   "outputs": [],
   "source": [
    "lm.params"
   ]
  },
  {
   "cell_type": "code",
   "execution_count": null,
   "id": "660bdc77",
   "metadata": {},
   "outputs": [],
   "source": [
    "import statsmodels.api as sm  \n",
    "from statsmodels.stats.outliers_influence import variance_inflation_factor"
   ]
  },
  {
   "cell_type": "code",
   "execution_count": null,
   "id": "6b6c399b",
   "metadata": {},
   "outputs": [],
   "source": [
    "# Calculate the VIFs for the new model\n",
    "vif = pd.DataFrame()\n",
    "X = X_train_rfe\n",
    "vif['Features'] = X.columns\n",
    "vif['VIF'] = [variance_inflation_factor(X.values, i) for i in range(X.shape[1])]\n",
    "vif['VIF'] = round(vif['VIF'], 2)\n",
    "vif = vif.sort_values(by = \"VIF\", ascending = False)\n",
    "vif"
   ]
  },
  {
   "cell_type": "code",
   "execution_count": null,
   "id": "906218df",
   "metadata": {},
   "outputs": [],
   "source": [
    "# Model 2\n",
    "# Removing 'atemp' as it has a high P value and high VIF\n",
    "X_train_new = X_train_rfe.drop(['atemp'], axis=1)"
   ]
  },
  {
   "cell_type": "code",
   "execution_count": null,
   "id": "c573487f",
   "metadata": {},
   "outputs": [],
   "source": [
    "vif = pd.DataFrame()\n",
    "X = X_train_new\n",
    "vif['Features'] = X.columns\n",
    "vif['VIF'] = [variance_inflation_factor(X.values, i) for i in range(X.shape[1])]\n",
    "vif['VIF'] = round(vif['VIF'], 2)\n",
    "vif = vif.sort_values(by = \"VIF\", ascending = False)\n",
    "vif"
   ]
  },
  {
   "cell_type": "code",
   "execution_count": null,
   "id": "893d461f",
   "metadata": {},
   "outputs": [],
   "source": [
    "X_train_rfe = sm.add_constant(X_train_new)\n",
    "lm = sm.OLS(y_train,X_train_rfe).fit()   # Running the linear model\n",
    "print(lm.summary())"
   ]
  },
  {
   "cell_type": "code",
   "execution_count": null,
   "id": "cf34aee2",
   "metadata": {},
   "outputs": [],
   "source": [
    "# Model 3\n",
    "# Removing 'mnth_may' as it has a high P value\n",
    "X_train_new = X_train_rfe.drop(['mnth_may'], axis=1)"
   ]
  },
  {
   "cell_type": "code",
   "execution_count": null,
   "id": "1263a521",
   "metadata": {
    "scrolled": true
   },
   "outputs": [],
   "source": [
    "vif = pd.DataFrame()\n",
    "X = X_train_new\n",
    "vif['Features'] = X.columns\n",
    "vif['VIF'] = [variance_inflation_factor(X.values, i) for i in range(X.shape[1])]\n",
    "vif['VIF'] = round(vif['VIF'], 2)\n",
    "vif = vif.sort_values(by = \"VIF\", ascending = False)\n",
    "vif"
   ]
  },
  {
   "cell_type": "code",
   "execution_count": null,
   "id": "0bafee47",
   "metadata": {},
   "outputs": [],
   "source": [
    "X_train_rfe = sm.add_constant(X_train_new)\n",
    "lm = sm.OLS(y_train,X_train_rfe).fit()   # Running the linear model\n",
    "print(lm.summary())"
   ]
  },
  {
   "cell_type": "code",
   "execution_count": null,
   "id": "0cbd91db",
   "metadata": {
    "scrolled": true
   },
   "outputs": [],
   "source": [
    "# Model 4\n",
    "# Removing 'mnth_feb' as it has a high P value\n",
    "X_train_new = X_train_rfe.drop(['mnth_feb'], axis=1)"
   ]
  },
  {
   "cell_type": "code",
   "execution_count": null,
   "id": "6ad79c5e",
   "metadata": {
    "scrolled": true
   },
   "outputs": [],
   "source": [
    "vif = pd.DataFrame()\n",
    "X = X_train_new\n",
    "vif['Features'] = X.columns\n",
    "vif['VIF'] = [variance_inflation_factor(X.values, i) for i in range(X.shape[1])]\n",
    "vif['VIF'] = round(vif['VIF'], 2)\n",
    "vif = vif.sort_values(by = \"VIF\", ascending = False)\n",
    "vif"
   ]
  },
  {
   "cell_type": "code",
   "execution_count": null,
   "id": "65e471a6",
   "metadata": {},
   "outputs": [],
   "source": [
    "X_train_rfe = sm.add_constant(X_train_new)\n",
    "lm = sm.OLS(y_train,X_train_rfe).fit()   # Running the linear model\n",
    "print(lm.summary())"
   ]
  },
  {
   "cell_type": "code",
   "execution_count": null,
   "id": "790c1e63",
   "metadata": {},
   "outputs": [],
   "source": [
    "# Model 5\n",
    "# Removing 'holiday' as it has a high P value\n",
    "X_train_new = X_train_rfe.drop(['holiday'], axis=1)"
   ]
  },
  {
   "cell_type": "code",
   "execution_count": null,
   "id": "a1235d40",
   "metadata": {
    "scrolled": true
   },
   "outputs": [],
   "source": [
    "vif = pd.DataFrame()\n",
    "X = X_train_new\n",
    "vif['Features'] = X.columns\n",
    "vif['VIF'] = [variance_inflation_factor(X.values, i) for i in range(X.shape[1])]\n",
    "vif['VIF'] = round(vif['VIF'], 2)\n",
    "vif = vif.sort_values(by = \"VIF\", ascending = False)\n",
    "vif"
   ]
  },
  {
   "cell_type": "code",
   "execution_count": null,
   "id": "ed66e04b",
   "metadata": {},
   "outputs": [],
   "source": [
    "X_train_rfe = sm.add_constant(X_train_new)\n",
    "lm = sm.OLS(y_train,X_train_rfe).fit()   # Running the linear model\n",
    "print(lm.summary())"
   ]
  },
  {
   "cell_type": "code",
   "execution_count": null,
   "id": "c37a3511",
   "metadata": {},
   "outputs": [],
   "source": [
    "# Model 6\n",
    "# P values are now below 0.05\n",
    "# Removing 'season_spring' as it has a high VIF value\n",
    "X_train_new = X_train_rfe.drop(['season_spring'], axis=1)"
   ]
  },
  {
   "cell_type": "code",
   "execution_count": null,
   "id": "223fb5c7",
   "metadata": {},
   "outputs": [],
   "source": [
    "vif = pd.DataFrame()\n",
    "X = X_train_new\n",
    "vif['Features'] = X.columns\n",
    "vif['VIF'] = [variance_inflation_factor(X.values, i) for i in range(X.shape[1])]\n",
    "vif['VIF'] = round(vif['VIF'], 2)\n",
    "vif = vif.sort_values(by = \"VIF\", ascending = False)\n",
    "vif"
   ]
  },
  {
   "cell_type": "code",
   "execution_count": null,
   "id": "c2a328b2",
   "metadata": {},
   "outputs": [],
   "source": [
    "X_train_rfe = sm.add_constant(X_train_new)\n",
    "lm = sm.OLS(y_train,X_train_rfe).fit()   # Running the linear model\n",
    "print(lm.summary())"
   ]
  },
  {
   "cell_type": "code",
   "execution_count": null,
   "id": "3d0c2b55",
   "metadata": {
    "scrolled": true
   },
   "outputs": [],
   "source": [
    "# Model 7\n",
    "# Removing 'mnth_nov' due to high P value\n",
    "X_train_new = X_train_rfe.drop(['mnth_nov'], axis=1)"
   ]
  },
  {
   "cell_type": "code",
   "execution_count": null,
   "id": "22e315af",
   "metadata": {
    "scrolled": true
   },
   "outputs": [],
   "source": [
    "vif = pd.DataFrame()\n",
    "X = X_train_new\n",
    "vif['Features'] = X.columns\n",
    "vif['VIF'] = [variance_inflation_factor(X.values, i) for i in range(X.shape[1])]\n",
    "vif['VIF'] = round(vif['VIF'], 2)\n",
    "vif = vif.sort_values(by = \"VIF\", ascending = False)\n",
    "vif"
   ]
  },
  {
   "cell_type": "code",
   "execution_count": null,
   "id": "a84f03ce",
   "metadata": {},
   "outputs": [],
   "source": [
    "X_train_rfe = sm.add_constant(X_train_new)\n",
    "lm = sm.OLS(y_train,X_train_rfe).fit()   # Running the linear model\n",
    "print(lm.summary())"
   ]
  },
  {
   "cell_type": "code",
   "execution_count": null,
   "id": "2ed88989",
   "metadata": {},
   "outputs": [],
   "source": [
    "# Model 8\n",
    "# Removing 'mnth_dec' due to high P value\n",
    "X_train_new = X_train_rfe.drop(['mnth_dec'], axis=1)"
   ]
  },
  {
   "cell_type": "code",
   "execution_count": null,
   "id": "5e8a61d7",
   "metadata": {
    "scrolled": true
   },
   "outputs": [],
   "source": [
    "vif = pd.DataFrame()\n",
    "X = X_train_new\n",
    "vif['Features'] = X.columns\n",
    "vif['VIF'] = [variance_inflation_factor(X.values, i) for i in range(X.shape[1])]\n",
    "vif['VIF'] = round(vif['VIF'], 2)\n",
    "vif = vif.sort_values(by = \"VIF\", ascending = False)\n",
    "vif"
   ]
  },
  {
   "cell_type": "code",
   "execution_count": null,
   "id": "82c08274",
   "metadata": {},
   "outputs": [],
   "source": [
    "X_train_rfe = sm.add_constant(X_train_new)\n",
    "lm = sm.OLS(y_train,X_train_rfe).fit()   # Running the linear model\n",
    "print(lm.summary())"
   ]
  },
  {
   "cell_type": "code",
   "execution_count": null,
   "id": "2cc11437",
   "metadata": {},
   "outputs": [],
   "source": [
    "# Model 9\n",
    "# Removing 'mnth_jan' as it has a non-zero p value and from the above visualization we noticed that it doesnt have a huge demand\n",
    "X_train_new = X_train_rfe.drop(['mnth_jan'], axis=1)"
   ]
  },
  {
   "cell_type": "code",
   "execution_count": null,
   "id": "2a2c2d78",
   "metadata": {
    "scrolled": true
   },
   "outputs": [],
   "source": [
    "vif = pd.DataFrame()\n",
    "X = X_train_new\n",
    "vif['Features'] = X.columns\n",
    "vif['VIF'] = [variance_inflation_factor(X.values, i) for i in range(X.shape[1])]\n",
    "vif['VIF'] = round(vif['VIF'], 2)\n",
    "vif = vif.sort_values(by = \"VIF\", ascending = False)\n",
    "vif"
   ]
  },
  {
   "cell_type": "code",
   "execution_count": null,
   "id": "1131b5b7",
   "metadata": {},
   "outputs": [],
   "source": [
    "X_train_rfe = sm.add_constant(X_train_new)\n",
    "lm = sm.OLS(y_train,X_train_rfe).fit()   # Running the linear model\n",
    "print(lm.summary())"
   ]
  },
  {
   "cell_type": "code",
   "execution_count": null,
   "id": "2b405f15",
   "metadata": {},
   "outputs": [],
   "source": [
    "# Model 10\n",
    "# Removing 'mnth_jul' as it has a non-zero p value and from the above visualization we noticed that it doesnt have a huge demand\n",
    "X_train_new = X_train_rfe.drop(['mnth_jul'], axis=1)"
   ]
  },
  {
   "cell_type": "code",
   "execution_count": null,
   "id": "3fbef0c0",
   "metadata": {
    "scrolled": true
   },
   "outputs": [],
   "source": [
    "vif = pd.DataFrame()\n",
    "X = X_train_new\n",
    "vif['Features'] = X.columns\n",
    "vif['VIF'] = [variance_inflation_factor(X.values, i) for i in range(X.shape[1])]\n",
    "vif['VIF'] = round(vif['VIF'], 2)\n",
    "vif = vif.sort_values(by = \"VIF\", ascending = False)\n",
    "vif"
   ]
  },
  {
   "cell_type": "code",
   "execution_count": null,
   "id": "a1f152bb",
   "metadata": {},
   "outputs": [],
   "source": [
    "X_train_rfe = sm.add_constant(X_train_new)\n",
    "lm = sm.OLS(y_train,X_train_rfe).fit()   # Running the linear model\n",
    "print(lm.summary())"
   ]
  },
  {
   "cell_type": "code",
   "execution_count": null,
   "id": "5fbae496",
   "metadata": {},
   "outputs": [],
   "source": [
    "# Model 11\n",
    "# Removing 'const' as it has high VIF\n",
    "X_train_new = X_train_rfe.drop(['const'], axis=1)"
   ]
  },
  {
   "cell_type": "code",
   "execution_count": null,
   "id": "721d9a88",
   "metadata": {
    "scrolled": true
   },
   "outputs": [],
   "source": [
    "vif = pd.DataFrame()\n",
    "X = X_train_new\n",
    "vif['Features'] = X.columns\n",
    "vif['VIF'] = [variance_inflation_factor(X.values, i) for i in range(X.shape[1])]\n",
    "vif['VIF'] = round(vif['VIF'], 2)\n",
    "vif = vif.sort_values(by = \"VIF\", ascending = False)\n",
    "vif"
   ]
  },
  {
   "cell_type": "code",
   "execution_count": null,
   "id": "70379c45",
   "metadata": {
    "scrolled": true
   },
   "outputs": [],
   "source": [
    "X_train_rfe = sm.add_constant(X_train_new)\n",
    "lm = sm.OLS(y_train,X_train_rfe).fit()   # Running the linear model\n",
    "print(lm.summary())"
   ]
  },
  {
   "cell_type": "code",
   "execution_count": null,
   "id": "3e506889",
   "metadata": {},
   "outputs": [],
   "source": [
    "# Model 12\n",
    "# Removing 'hum' as it has high VIF\n",
    "X_train_new = X_train_rfe.drop(['hum'], axis=1)"
   ]
  },
  {
   "cell_type": "code",
   "execution_count": null,
   "id": "de45ebbd",
   "metadata": {},
   "outputs": [],
   "source": [
    "vif = pd.DataFrame()\n",
    "X = X_train_new\n",
    "vif['Features'] = X.columns\n",
    "vif['VIF'] = [variance_inflation_factor(X.values, i) for i in range(X.shape[1])]\n",
    "vif['VIF'] = round(vif['VIF'], 2)\n",
    "vif = vif.sort_values(by = \"VIF\", ascending = False)\n",
    "vif"
   ]
  },
  {
   "cell_type": "code",
   "execution_count": null,
   "id": "f1a222ce",
   "metadata": {},
   "outputs": [],
   "source": [
    "X_train_rfe = sm.add_constant(X_train_new)\n",
    "lm = sm.OLS(y_train,X_train_rfe).fit()   # Running the linear model\n",
    "print(lm.summary())"
   ]
  },
  {
   "cell_type": "markdown",
   "id": "6d169453",
   "metadata": {},
   "source": [
    "* We can conclude this to be our final model as the P values are zero and VIFs are optimal.\n",
    "* The F-Statistics value of 253.0 (which is greater than 1) and the p-value of 0 implying that the overall model is significant."
   ]
  },
  {
   "cell_type": "markdown",
   "id": "d223d796",
   "metadata": {},
   "source": [
    "### Step4: Residual Analysis"
   ]
  },
  {
   "cell_type": "code",
   "execution_count": null,
   "id": "a9698799",
   "metadata": {},
   "outputs": [],
   "source": [
    "y_train_cnt = lm.predict(X_train_rfe)"
   ]
  },
  {
   "cell_type": "markdown",
   "id": "efcc4377",
   "metadata": {},
   "source": [
    "##### Error terms are following a normal distribution: "
   ]
  },
  {
   "cell_type": "code",
   "execution_count": null,
   "id": "a4564b61",
   "metadata": {},
   "outputs": [],
   "source": [
    "fig = plt.figure()\n",
    "sns.distplot((y_train - y_train_cnt), bins = 20)\n",
    "fig.suptitle('Error Terms', fontsize = 20)                  # Plot heading \n",
    "plt.xlabel('Errors', fontsize = 18) "
   ]
  },
  {
   "cell_type": "markdown",
   "id": "640baa42",
   "metadata": {},
   "source": [
    "##### VIF values are less than 5 which is good."
   ]
  },
  {
   "cell_type": "code",
   "execution_count": null,
   "id": "5f512d2f",
   "metadata": {},
   "outputs": [],
   "source": [
    "# Multi-collinearity check:\n",
    "vif = pd.DataFrame()\n",
    "X = X_train_rfe\n",
    "vif['Features'] = X.columns\n",
    "vif['VIF'] = [variance_inflation_factor(X.values, i) for i in range(X.shape[1])]\n",
    "vif['VIF'] = round(vif['VIF'], 2)\n",
    "vif = vif.sort_values(by = \"VIF\", ascending = False)\n",
    "vif"
   ]
  },
  {
   "cell_type": "markdown",
   "id": "80cfdff3",
   "metadata": {},
   "source": [
    "##### Homoscedacity test: No visible pattern observed from above plot for residuals."
   ]
  },
  {
   "cell_type": "code",
   "execution_count": null,
   "id": "ad650a6d",
   "metadata": {},
   "outputs": [],
   "source": [
    "y_train_cnt = lm.predict(X_train_rfe)\n",
    "res = y_train -y_train_cnt\n",
    "\n",
    "p = sns.scatterplot(y_train_cnt,res)\n",
    "plt.xlabel('predicted values')\n",
    "plt.ylabel('residuals')\n",
    "p = plt.plot([0,1],[0,0],color='blue')\n",
    "p = plt.title('homoscedasticity check')"
   ]
  },
  {
   "cell_type": "markdown",
   "id": "4c4ab9af",
   "metadata": {},
   "source": [
    "##### Independence of errors can be checked using Durbin-Watson:\n",
    "* Durbin-Watson value of final model is 2.089, which signifies there is no autocorrelation."
   ]
  },
  {
   "cell_type": "markdown",
   "id": "8df358da",
   "metadata": {},
   "source": [
    "### Step5: Prediction and evaluation on test set"
   ]
  },
  {
   "cell_type": "code",
   "execution_count": null,
   "id": "856f8a3f",
   "metadata": {},
   "outputs": [],
   "source": [
    "# lets perform scaling on the test data.\n",
    "num_vars = ['cnt','hum','windspeed','temp','atemp']\n",
    "df_test[num_vars] = scaler.transform(df_test[num_vars])"
   ]
  },
  {
   "cell_type": "code",
   "execution_count": null,
   "id": "9428c0f7",
   "metadata": {},
   "outputs": [],
   "source": [
    "df_test.describe()"
   ]
  },
  {
   "cell_type": "code",
   "execution_count": null,
   "id": "8ecd98a6",
   "metadata": {},
   "outputs": [],
   "source": [
    "df_test.shape"
   ]
  },
  {
   "cell_type": "code",
   "execution_count": null,
   "id": "75179cf5",
   "metadata": {},
   "outputs": [],
   "source": [
    "y_test = df_test.pop('cnt')\n",
    "X_test = df_test"
   ]
  },
  {
   "cell_type": "code",
   "execution_count": null,
   "id": "998e43c7",
   "metadata": {},
   "outputs": [],
   "source": [
    "X_test = sm.add_constant(X_test)"
   ]
  },
  {
   "cell_type": "code",
   "execution_count": null,
   "id": "8b31ee56",
   "metadata": {},
   "outputs": [],
   "source": [
    "X_test_new = X_test[X_train_rfe.columns]\n",
    "# Adding constant variable to test dataframe\n",
    "X_test_new = sm.add_constant(X_test_new)\n",
    "\n",
    "X_test_new.info()"
   ]
  },
  {
   "cell_type": "code",
   "execution_count": null,
   "id": "9fa3fa06",
   "metadata": {},
   "outputs": [],
   "source": [
    "y_pred = lm.predict(X_test_new)"
   ]
  },
  {
   "cell_type": "code",
   "execution_count": null,
   "id": "05897f1f",
   "metadata": {},
   "outputs": [],
   "source": [
    "from sklearn.metrics import r2_score\n",
    "r2 =r2_score(y_test, y_pred)\n",
    "r2"
   ]
  },
  {
   "cell_type": "code",
   "execution_count": null,
   "id": "c3a73f4a",
   "metadata": {},
   "outputs": [],
   "source": [
    "# Calculating Adjusted-R^2 value for the test dataset\n",
    "adjust_r2 = round(1-(1-r2)*(X_test_new.shape[0]-1)/(X_test_new.shape[0]-X_test_new.shape[1]-1),4)\n",
    "adjust_r2"
   ]
  },
  {
   "cell_type": "code",
   "execution_count": null,
   "id": "5428a32e",
   "metadata": {},
   "outputs": [],
   "source": [
    "# Plotting y_test and y_pred to understand the spread.\n",
    "fig = plt.figure()\n",
    "plt.scatter(y_test,y_pred)\n",
    "fig.suptitle('y_test vs y_pred', fontsize=20)              # Plot heading \n",
    "plt.xlabel('y_test', fontsize=18)                          # X-label\n",
    "plt.ylabel('y_pred', fontsize=16)                          # Y-label\n"
   ]
  },
  {
   "cell_type": "code",
   "execution_count": null,
   "id": "bcf45877",
   "metadata": {},
   "outputs": [],
   "source": [
    "lm.summary()"
   ]
  },
  {
   "cell_type": "markdown",
   "id": "e4c76be4",
   "metadata": {
    "scrolled": true
   },
   "source": [
    "### Final Equation\n",
    "We can see that the equation of our best fitted line is:\n",
    "* cnt = 0.0750 + (temp × 0.5499) + (yr × 0.2331) + (season_winter x 0.1307) + (mnth_sept x 0.0974) + (season_summer x 0.0886) + (weekday_mon x 0.0675) + (workingday × 0.0561) − (weathersit_Mist x 0.0800) - (windspeed × 0.1552) - (weathersit_Snow x 0.2871)"
   ]
  },
  {
   "cell_type": "markdown",
   "id": "0b83b80a",
   "metadata": {},
   "source": [
    "### Conclusion:\n",
    "\n",
    "* All the positive coefficients like temp, yr, season_winter, mnth_sept, season_Summer, weekday_mon and workingday indicate that these are positively correlated to the target variable, cnt.\n",
    "\n",
    "* And all the negative coefficients indicate that an increase in these values will lead to an decrease in the value of cnt.\n",
    "* Temp is the most significant with the largest coefficient of 0.549892.\n",
    "* Followed by Year and Season.\n",
    "* Bike sharing is more during the month of September.\n",
    "* There is a decrease in the demand when the Weather situation is bad (Snow).\n",
    "\n",
    "* Therefore as per our final Model, below are the top 3 variables that influence the demand:\n",
    "1. Temperature\n",
    "2. Year\n",
    "3. Season"
   ]
  }
 ],
 "metadata": {
  "kernelspec": {
   "display_name": "Python 3 (ipykernel)",
   "language": "python",
   "name": "python3"
  },
  "language_info": {
   "codemirror_mode": {
    "name": "ipython",
    "version": 3
   },
   "file_extension": ".py",
   "mimetype": "text/x-python",
   "name": "python",
   "nbconvert_exporter": "python",
   "pygments_lexer": "ipython3",
   "version": "3.9.7"
  }
 },
 "nbformat": 4,
 "nbformat_minor": 5
}
